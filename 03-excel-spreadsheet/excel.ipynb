{
 "cells": [
  {
   "cell_type": "markdown",
   "id": "53735aaf-cd14-4d11-9b6a-65a924ed698d",
   "metadata": {},
   "source": [
    "# Reading data from Excel spreadsheet"
   ]
  },
  {
   "cell_type": "markdown",
   "id": "c7f9ac22-b87a-4cae-93a2-d91faab7c7b6",
   "metadata": {},
   "source": [
    "## Import modules"
   ]
  },
  {
   "cell_type": "code",
   "execution_count": 1,
   "id": "983e562c-47bd-4062-85ce-1acf10392204",
   "metadata": {},
   "outputs": [],
   "source": [
    "import pandas as pd"
   ]
  },
  {
   "cell_type": "markdown",
   "id": "7f4864c7-568b-4e61-a1ec-6ce5786ef8e4",
   "metadata": {},
   "source": [
    "## Define functions"
   ]
  },
  {
   "cell_type": "code",
   "execution_count": 7,
   "id": "ca0ccc01-dc76-48be-89e8-c57cb20c4835",
   "metadata": {},
   "outputs": [],
   "source": [
    "def read_from_excel(file_path):\n",
    "    xlsx = pd.ExcelFile(file_path)\n",
    "    input_data = dict()\n",
    "    input_data[\"tasks\"] = xlsx.parse(sheet_name=\"tasks\")\n",
    "    return input_data"
   ]
  },
  {
   "cell_type": "markdown",
   "id": "18b08a39-9fa7-4307-b2ef-30f439e0112d",
   "metadata": {},
   "source": [
    "## Read data from file"
   ]
  },
  {
   "cell_type": "code",
   "execution_count": 12,
   "id": "a7be3b57-bcf4-4b92-bcfe-4cf80b24a870",
   "metadata": {},
   "outputs": [
    {
     "name": "stdout",
     "output_type": "stream",
     "text": [
      "tasks\n",
      "    Name   Start day     End day  Work\n",
      "0   p2.e  2024-11-21  2024-12-04    10\n",
      "1   p2.m  2024-12-05  2025-04-02   170\n",
      "2   p2.f  2025-04-03  2025-04-30    60\n",
      "3   p3.e  2024-12-01  2024-12-13     4\n",
      "4   p3.m  2024-12-14  2025-05-30   112\n",
      "5   p3.f  2025-05-31  2025-06-27    24\n",
      "6   p4.e  2024-12-16  2025-01-03    15\n",
      "7   p4.m  2025-01-04  2025-06-20   240\n",
      "8   p4.f  2025-06-21  2025-07-18    40\n",
      "9   p5.e  2024-12-31  2025-01-13    16\n",
      "10  p5.m  2025-01-14  2025-05-12   102\n",
      "11  p5.f  2025-05-13  2025-06-09    40\n",
      "12  p6.e  2025-01-20  2025-02-14    20\n",
      "13  p6.m  2025-02-15  2025-08-01   122\n",
      "14  p6.f  2025-08-02  2025-08-29    24\n"
     ]
    }
   ],
   "source": [
    "input_data = read_from_excel(\"./input/yumbo.xlsx\")\n",
    "for key, value in input_data.items():\n",
    "    print(key)\n",
    "    print(value)\n",
    "    "
   ]
  },
  {
   "cell_type": "code",
   "execution_count": null,
   "id": "dd397893-f136-41f3-b34b-fd9bc67efad2",
   "metadata": {},
   "outputs": [],
   "source": []
  }
 ],
 "metadata": {
  "kernelspec": {
   "display_name": "Python 3 (ipykernel)",
   "language": "python",
   "name": "python3"
  },
  "language_info": {
   "codemirror_mode": {
    "name": "ipython",
    "version": 3
   },
   "file_extension": ".py",
   "mimetype": "text/x-python",
   "name": "python",
   "nbconvert_exporter": "python",
   "pygments_lexer": "ipython3",
   "version": "3.13.0"
  }
 },
 "nbformat": 4,
 "nbformat_minor": 5
}
