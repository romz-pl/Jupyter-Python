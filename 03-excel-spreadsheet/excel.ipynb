{
 "cells": [
  {
   "cell_type": "markdown",
   "id": "53735aaf-cd14-4d11-9b6a-65a924ed698d",
   "metadata": {},
   "source": [
    "# Reading data from Excel spreadsheet"
   ]
  },
  {
   "cell_type": "markdown",
   "id": "c7f9ac22-b87a-4cae-93a2-d91faab7c7b6",
   "metadata": {},
   "source": [
    "## Import modules"
   ]
  },
  {
   "cell_type": "code",
   "execution_count": 21,
   "id": "983e562c-47bd-4062-85ce-1acf10392204",
   "metadata": {},
   "outputs": [],
   "source": [
    "import pandas as pd\n",
    "import sys\n",
    "import json"
   ]
  },
  {
   "cell_type": "markdown",
   "id": "7f4864c7-568b-4e61-a1ec-6ce5786ef8e4",
   "metadata": {},
   "source": [
    "## Define functions"
   ]
  },
  {
   "cell_type": "code",
   "execution_count": 25,
   "id": "ca0ccc01-dc76-48be-89e8-c57cb20c4835",
   "metadata": {},
   "outputs": [],
   "source": [
    "def read_from_excel(file_path):\n",
    "    xlsx = pd.ExcelFile(file_path)\n",
    "    data = dict()\n",
    "    data[\"tasks\"] = xlsx.parse(sheet_name=\"tasks\")\n",
    "    data[\"invoicing periods\"] = xlsx.parse(sheet_name=\"invoicing periods\")\n",
    "    data[\"task bounds\"] = xlsx.parse(sheet_name=\"task bounds\")\n",
    "    return data"
   ]
  },
  {
   "cell_type": "markdown",
   "id": "18b08a39-9fa7-4307-b2ef-30f439e0112d",
   "metadata": {},
   "source": [
    "## Read data from file"
   ]
  },
  {
   "cell_type": "code",
   "execution_count": 35,
   "id": "a7be3b57-bcf4-4b92-bcfe-4cf80b24a870",
   "metadata": {},
   "outputs": [
    {
     "name": "stdout",
     "output_type": "stream",
     "text": [
      "['tasks', 'invoicing periods', 'task bounds']\n"
     ]
    }
   ],
   "source": [
    "# data is dictionary of dataframes\n",
    "data = read_from_excel(\"./input/yumbo.xlsx\")\n",
    "assert( isinstance(data, dict) )\n",
    "\n",
    "# convert dataframes into dictionaries\n",
    "data_dict = {\n",
    "    key: data[key].to_dict(orient='records') \n",
    "    for key in data.keys()\n",
    "}\n",
    "\n",
    "print([key for key in data_dict])\n",
    "\n",
    "# write to disk\n",
    "with open(\"./output/yumbo.json\", \"w\") as f:\n",
    "    json.dump(data_dict, f, indent=2, sort_keys=False)\n"
   ]
  },
  {
   "cell_type": "code",
   "execution_count": null,
   "id": "dd397893-f136-41f3-b34b-fd9bc67efad2",
   "metadata": {},
   "outputs": [],
   "source": []
  }
 ],
 "metadata": {
  "kernelspec": {
   "display_name": "Python 3 (ipykernel)",
   "language": "python",
   "name": "python3"
  },
  "language_info": {
   "codemirror_mode": {
    "name": "ipython",
    "version": 3
   },
   "file_extension": ".py",
   "mimetype": "text/x-python",
   "name": "python",
   "nbconvert_exporter": "python",
   "pygments_lexer": "ipython3",
   "version": "3.13.0"
  }
 },
 "nbformat": 4,
 "nbformat_minor": 5
}
