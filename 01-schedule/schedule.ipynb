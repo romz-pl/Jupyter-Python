{
 "cells": [
  {
   "cell_type": "markdown",
   "id": "6f83c080-2ceb-4171-a977-de168744b2d3",
   "metadata": {},
   "source": [
    "# Schedule as a cumulative bar chart"
   ]
  },
  {
   "cell_type": "code",
   "execution_count": null,
   "id": "d2e28f44-cf4e-4c36-8120-ac1122fbba67",
   "metadata": {},
   "outputs": [],
   "source": [
    "import pandas as pd\n",
    "import matplotlib.pyplot as plt\n",
    "import matplotlib.ticker as tck\n",
    "import datetime"
   ]
  },
  {
   "cell_type": "code",
   "execution_count": null,
   "id": "7bf4f3b6-6ae6-41f4-a0c0-023c02e51400",
   "metadata": {},
   "outputs": [],
   "source": []
  }
 ],
 "metadata": {
  "kernelspec": {
   "display_name": "Python 3 (ipykernel)",
   "language": "python",
   "name": "python3"
  },
  "language_info": {
   "codemirror_mode": {
    "name": "ipython",
    "version": 3
   },
   "file_extension": ".py",
   "mimetype": "text/x-python",
   "name": "python",
   "nbconvert_exporter": "python",
   "pygments_lexer": "ipython3",
   "version": "3.13.0"
  }
 },
 "nbformat": 4,
 "nbformat_minor": 5
}
