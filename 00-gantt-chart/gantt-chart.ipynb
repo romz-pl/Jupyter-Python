{
 "cells": [
  {
   "cell_type": "code",
   "execution_count": 35,
   "id": "b4f989ef-45f9-4974-be4b-41c2f67cedd7",
   "metadata": {},
   "outputs": [],
   "source": [
    "import numpy as np\n",
    "import pandas as pd\n",
    "import matplotlib.pyplot as plt\n",
    "import matplotlib.ticker as tck"
   ]
  },
  {
   "cell_type": "code",
   "execution_count": 18,
   "id": "9578f0cd-f6e5-4906-8e77-ad5b73360430",
   "metadata": {},
   "outputs": [],
   "source": [
    "df = pd.read_csv(\"input/tasks.csv\")\n",
    "date_format = \"%Y-%m-%d\"\n",
    "df[\"Start day\"] = pd.to_datetime(df[\"Start day\"], format=date_format)\n",
    "df[\"End day\"] = pd.to_datetime(df[\"End day\"], format=date_format)"
   ]
  },
  {
   "cell_type": "code",
   "execution_count": 19,
   "id": "380351e7-e330-4826-a0c6-7570346811a6",
   "metadata": {},
   "outputs": [
    {
     "data": {
      "text/html": [
       "<div>\n",
       "<style scoped>\n",
       "    .dataframe tbody tr th:only-of-type {\n",
       "        vertical-align: middle;\n",
       "    }\n",
       "\n",
       "    .dataframe tbody tr th {\n",
       "        vertical-align: top;\n",
       "    }\n",
       "\n",
       "    .dataframe thead th {\n",
       "        text-align: right;\n",
       "    }\n",
       "</style>\n",
       "<table border=\"1\" class=\"dataframe\">\n",
       "  <thead>\n",
       "    <tr style=\"text-align: right;\">\n",
       "      <th></th>\n",
       "      <th>Name</th>\n",
       "      <th>Start day</th>\n",
       "      <th>End day</th>\n",
       "      <th>Work</th>\n",
       "    </tr>\n",
       "  </thead>\n",
       "  <tbody>\n",
       "    <tr>\n",
       "      <th>0</th>\n",
       "      <td>p2.e</td>\n",
       "      <td>2024-11-21</td>\n",
       "      <td>2024-12-04</td>\n",
       "      <td>10</td>\n",
       "    </tr>\n",
       "    <tr>\n",
       "      <th>1</th>\n",
       "      <td>p2.m</td>\n",
       "      <td>2024-12-05</td>\n",
       "      <td>2025-04-02</td>\n",
       "      <td>170</td>\n",
       "    </tr>\n",
       "    <tr>\n",
       "      <th>2</th>\n",
       "      <td>p2.f</td>\n",
       "      <td>2025-04-03</td>\n",
       "      <td>2025-04-30</td>\n",
       "      <td>60</td>\n",
       "    </tr>\n",
       "    <tr>\n",
       "      <th>3</th>\n",
       "      <td>p3.e</td>\n",
       "      <td>2024-12-01</td>\n",
       "      <td>2024-12-13</td>\n",
       "      <td>4</td>\n",
       "    </tr>\n",
       "    <tr>\n",
       "      <th>4</th>\n",
       "      <td>p3.m</td>\n",
       "      <td>2024-12-14</td>\n",
       "      <td>2025-05-30</td>\n",
       "      <td>112</td>\n",
       "    </tr>\n",
       "    <tr>\n",
       "      <th>5</th>\n",
       "      <td>p3.f</td>\n",
       "      <td>2025-05-31</td>\n",
       "      <td>2025-06-27</td>\n",
       "      <td>24</td>\n",
       "    </tr>\n",
       "    <tr>\n",
       "      <th>6</th>\n",
       "      <td>p4.e</td>\n",
       "      <td>2024-12-16</td>\n",
       "      <td>2025-01-03</td>\n",
       "      <td>15</td>\n",
       "    </tr>\n",
       "    <tr>\n",
       "      <th>7</th>\n",
       "      <td>p4.m</td>\n",
       "      <td>2025-01-04</td>\n",
       "      <td>2025-06-20</td>\n",
       "      <td>240</td>\n",
       "    </tr>\n",
       "    <tr>\n",
       "      <th>8</th>\n",
       "      <td>p4.f</td>\n",
       "      <td>2025-06-21</td>\n",
       "      <td>2025-07-18</td>\n",
       "      <td>40</td>\n",
       "    </tr>\n",
       "    <tr>\n",
       "      <th>9</th>\n",
       "      <td>p5.e</td>\n",
       "      <td>2024-12-31</td>\n",
       "      <td>2025-01-13</td>\n",
       "      <td>16</td>\n",
       "    </tr>\n",
       "    <tr>\n",
       "      <th>10</th>\n",
       "      <td>p5.m</td>\n",
       "      <td>2025-01-14</td>\n",
       "      <td>2025-05-12</td>\n",
       "      <td>102</td>\n",
       "    </tr>\n",
       "    <tr>\n",
       "      <th>11</th>\n",
       "      <td>p5.f</td>\n",
       "      <td>2025-05-13</td>\n",
       "      <td>2025-06-09</td>\n",
       "      <td>40</td>\n",
       "    </tr>\n",
       "    <tr>\n",
       "      <th>12</th>\n",
       "      <td>p6.e</td>\n",
       "      <td>2025-01-20</td>\n",
       "      <td>2025-02-14</td>\n",
       "      <td>20</td>\n",
       "    </tr>\n",
       "    <tr>\n",
       "      <th>13</th>\n",
       "      <td>p6.m</td>\n",
       "      <td>2025-02-15</td>\n",
       "      <td>2025-08-01</td>\n",
       "      <td>122</td>\n",
       "    </tr>\n",
       "    <tr>\n",
       "      <th>14</th>\n",
       "      <td>p6.f</td>\n",
       "      <td>2025-08-02</td>\n",
       "      <td>2025-08-29</td>\n",
       "      <td>24</td>\n",
       "    </tr>\n",
       "  </tbody>\n",
       "</table>\n",
       "</div>"
      ],
      "text/plain": [
       "    Name  Start day    End day  Work\n",
       "0   p2.e 2024-11-21 2024-12-04    10\n",
       "1   p2.m 2024-12-05 2025-04-02   170\n",
       "2   p2.f 2025-04-03 2025-04-30    60\n",
       "3   p3.e 2024-12-01 2024-12-13     4\n",
       "4   p3.m 2024-12-14 2025-05-30   112\n",
       "5   p3.f 2025-05-31 2025-06-27    24\n",
       "6   p4.e 2024-12-16 2025-01-03    15\n",
       "7   p4.m 2025-01-04 2025-06-20   240\n",
       "8   p4.f 2025-06-21 2025-07-18    40\n",
       "9   p5.e 2024-12-31 2025-01-13    16\n",
       "10  p5.m 2025-01-14 2025-05-12   102\n",
       "11  p5.f 2025-05-13 2025-06-09    40\n",
       "12  p6.e 2025-01-20 2025-02-14    20\n",
       "13  p6.m 2025-02-15 2025-08-01   122\n",
       "14  p6.f 2025-08-02 2025-08-29    24"
      ]
     },
     "execution_count": 19,
     "metadata": {},
     "output_type": "execute_result"
    }
   ],
   "source": [
    "df"
   ]
  },
  {
   "cell_type": "code",
   "execution_count": 20,
   "id": "4017d985-7296-42b7-bab6-3e7e0d21e2e3",
   "metadata": {},
   "outputs": [
    {
     "data": {
      "text/plain": [
       "Name                 object\n",
       "Start day    datetime64[ns]\n",
       "End day      datetime64[ns]\n",
       "Work                  int64\n",
       "dtype: object"
      ]
     },
     "execution_count": 20,
     "metadata": {},
     "output_type": "execute_result"
    }
   ],
   "source": [
    "df.dtypes"
   ]
  },
  {
   "cell_type": "code",
   "execution_count": 26,
   "id": "147e8988-543e-415a-845d-4c96aa8038bd",
   "metadata": {},
   "outputs": [],
   "source": [
    "duration = (df[\"End day\"] - df[\"Start day\"])"
   ]
  },
  {
   "cell_type": "code",
   "execution_count": 45,
   "id": "26369642-7b3e-4660-82de-1a37fb3b813c",
   "metadata": {},
   "outputs": [
    {
     "data": {
      "image/png": "[encoded data removed]",
      "text/plain": [
       "<Figure size 800x600 with 1 Axes>"
      ]
     },
     "metadata": {},
     "output_type": "display_data"
    }
   ],
   "source": [
    "fig, ax = plt.subplots()\n",
    "rects = plt.barh(y=df[\"Name\"], width=duration, left=df[\"Start day\"], color='tab:orange', height=1.0, alpha=0.5)\n",
    "ax.bar_label(rects, labels=df[\"Name\"], label_type='center')\n",
    "ax.vlines(df[\"End day\"], 0, df[\"Name\"], linestyles='dashed', color=\"tab:orange\")\n",
    "ax.xaxis_date()\n",
    "# ax.set_xlabel('Day')\n",
    "ax.set_title(\"Task's Gantt chart\")\n",
    "ax.yaxis.set_major_locator(tck.NullLocator())\n",
    "ax.xaxis.set_minor_locator(tck.MultipleLocator(5))\n",
    "ax.set_xticks(df[\"End day\"])\n",
    "ax.tick_params(axis='x', rotation=90, labelsize='small')\n",
    "ax.yaxis.set_tick_params(labelleft=False)\n",
    "ax.set_ylim(bottom=0)\n",
    "fig.set_size_inches(8, 6)\n",
    "plt.savefig(\"output/gantt-chart.png\", bbox_inches=\"tight\", dpi = 200)\n",
    "# plt.close()"
   ]
  },
  {
   "cell_type": "code",
   "execution_count": null,
   "id": "2b90aa6a-4328-46e5-b434-f8e9635d4d96",
   "metadata": {},
   "outputs": [],
   "source": []
  }
 ],
 "metadata": {
  "kernelspec": {
   "display_name": "Python 3 (ipykernel)",
   "language": "python",
   "name": "python3"
  },
  "language_info": {
   "codemirror_mode": {
    "name": "ipython",
    "version": 3
   },
   "file_extension": ".py",
   "mimetype": "text/x-python",
   "name": "python",
   "nbconvert_exporter": "python",
   "pygments_lexer": "ipython3",
   "version": "3.13.0"
  }
 },
 "nbformat": 4,
 "nbformat_minor": 5
}
